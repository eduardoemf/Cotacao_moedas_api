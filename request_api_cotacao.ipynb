{
 "cells": [
  {
   "cell_type": "markdown",
   "metadata": {},
   "source": [
    "#### Importação das bibliotecas necessárias"
   ]
  },
  {
   "cell_type": "code",
   "execution_count": 1,
   "metadata": {},
   "outputs": [],
   "source": [
    "from datetime import datetime\n",
    "import pandas as pd\n",
    "import requests as r\n",
    "#from conexao_sqlserver import cnxn, cursor\n",
    "import pyodbc"
   ]
  },
  {
   "cell_type": "code",
   "execution_count": 2,
   "metadata": {},
   "outputs": [],
   "source": [
    "credenciais = pd.read_csv('credenciais//credenciais.txt', sep=\";\")\n",
    "\n",
    "# Some other example server values are\n",
    "# server = 'localhost\\sqlexpress' # for a named instance\n",
    "# server = 'myserver,port' # to specify an alternate port\n",
    "# server = tcp:localhost,1433 # to login in linux ubuntu\n",
    "server = 'tcp:localhost,1433'\n",
    "database = 'db_projeto_cotacao_online'\n",
    "username = credenciais['user'][0] \n",
    "password = credenciais['senha'][0]\n",
    "cnxn = pyodbc.connect('DRIVER={ODBC Driver 17 for SQL Server};SERVER='+server+';DATABASE='+database+';UID='+username+';PWD='+ password)\n",
    "cursor = cnxn.cursor()"
   ]
  },
  {
   "cell_type": "markdown",
   "metadata": {},
   "source": [
    "#### Requisição da URL que fornece os dados na fonte com atualização a cada 30 segundos"
   ]
  },
  {
   "cell_type": "code",
   "execution_count": 3,
   "metadata": {},
   "outputs": [],
   "source": [
    "lista_cotacoes = ['USD-BRL','EUR-BRL','ARS-BRL','GBP-BRL','JPY-BRL','UYU-BRL','PYG-BRL','CLP-BRL']\n",
    "\n",
    "\n",
    "lista_df_cotacoes = []\n",
    "\n",
    "for i in lista_cotacoes:\n",
    "    url = f\"https://economia.awesomeapi.com.br/last/{i}\"\n",
    "    cotacao = r.get(url)\n",
    "    cotacoes = cotacao.json()\n",
    "    for resultado in cotacoes:\n",
    "        nome = cotacoes[resultado]['name']\n",
    "        hora_coleta_api = cotacoes[resultado]['create_date']\n",
    "        valor_compra = float(cotacoes[resultado]['bid'])\n",
    "        valor_venda = float(cotacoes[resultado]['ask'])\n",
    "        valor_maximo = float(cotacoes[resultado]['high'])\n",
    "        valor_minimo = float(cotacoes[resultado]['low'])\n",
    "\n",
    "        lista_itens = [str(datetime.now())[:19], resultado, nome, hora_coleta_api, valor_compra, valor_venda, valor_maximo, valor_minimo]\n",
    "        lista_df_cotacoes.append(lista_itens)"
   ]
  },
  {
   "cell_type": "markdown",
   "metadata": {},
   "source": [
    "#### Integração com o SQL SERVER para armazenamento dos dados"
   ]
  },
  {
   "cell_type": "code",
   "execution_count": 4,
   "metadata": {},
   "outputs": [
    {
     "name": "stderr",
     "output_type": "stream",
     "text": [
      "/usr/local/lib/python3.8/dist-packages/pandas/io/sql.py:761: UserWarning: pandas only support SQLAlchemy connectable(engine/connection) ordatabase string URI or sqlite3 DBAPI2 connectionother DBAPI2 objects are not tested, please consider using SQLAlchemy\n",
      "  warnings.warn(\n"
     ]
    }
   ],
   "source": [
    "query = \"\"\"select \n",
    "codigo_cotacao + '|' + hora_disponibilidade_api as 'chave'\n",
    "from tb_cotacao_moedas_hoje\"\"\"\n",
    "\n",
    "cotacoes_ja_importadas_no_banco = []\n",
    "consulta_sql = pd.read_sql_query(query, cnxn)\n",
    "for i in consulta_sql.index:\n",
    "    cotacoes_ja_importadas_no_banco.append(consulta_sql['chave'][i])"
   ]
  },
  {
   "cell_type": "code",
   "execution_count": 5,
   "metadata": {},
   "outputs": [],
   "source": [
    "for item in lista_df_cotacoes:\n",
    "    chave = str(item[1]) + \"|\" + str(item[3])\n",
    "    if chave in cotacoes_ja_importadas_no_banco:\n",
    "        pass\n",
    "    else:\n",
    "        cursor.execute(f\"\"\"\n",
    "        INSERT INTO tb_cotacao_moedas_hoje (importacao, codigo_cotacao, nome, hora_disponibilidade_api, valor_compra, valor_venda, valor_maximo, valor_minimo)\n",
    "        VALUES ('{item[0]}',\n",
    "                '{item[1]}',\n",
    "                '{item[2]}',\n",
    "                '{item[3]}',\n",
    "                '{item[4]}',\n",
    "                '{item[5]}',\n",
    "                '{item[6]}',\n",
    "                '{item[7]}'\n",
    "                ) \"\"\")\n",
    "\n",
    "        cnxn.commit()"
   ]
  }
 ],
 "metadata": {
  "kernelspec": {
   "display_name": "Python 3.8.10 64-bit",
   "language": "python",
   "name": "python3"
  },
  "language_info": {
   "codemirror_mode": {
    "name": "ipython",
    "version": 3
   },
   "file_extension": ".py",
   "mimetype": "text/x-python",
   "name": "python",
   "nbconvert_exporter": "python",
   "pygments_lexer": "ipython3",
   "version": "3.8.10"
  },
  "orig_nbformat": 4,
  "vscode": {
   "interpreter": {
    "hash": "916dbcbb3f70747c44a77c7bcd40155683ae19c65e1c03b4aa3499c5328201f1"
   }
  }
 },
 "nbformat": 4,
 "nbformat_minor": 2
}
